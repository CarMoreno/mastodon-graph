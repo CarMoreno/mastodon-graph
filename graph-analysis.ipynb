{
 "cells": [
  {
   "cell_type": "markdown",
   "id": "39c97585776be787",
   "metadata": {},
   "source": "## Import necessary python packages"
  },
  {
   "cell_type": "code",
   "execution_count": 6,
   "id": "c67d720c053ba466",
   "metadata": {
    "ExecuteTime": {
     "end_time": "2025-10-14T09:41:53.421652Z",
     "start_time": "2025-10-14T09:41:53.338386Z"
    }
   },
   "outputs": [],
   "source": [
    "import polars as pl\n",
    "from neo4j import GraphDatabase"
   ]
  },
  {
   "cell_type": "markdown",
   "id": "3162a0949927c5c0",
   "metadata": {},
   "source": "## Data management related functions"
  },
  {
   "cell_type": "code",
   "execution_count": 81,
   "id": "5aab0107cc919f47",
   "metadata": {
    "ExecuteTime": {
     "end_time": "2025-10-15T07:21:16.749776Z",
     "start_time": "2025-10-15T07:21:16.744668Z"
    }
   },
   "outputs": [],
   "source": [
    "def get_users_df(file_name: str) -> pl.DataFrame:\n",
    "    authors = (\n",
    "        pl.read_csv(f\"data/{file_name}.csv\")\n",
    "        .with_columns(\n",
    "            pl.when(~pl.col(\"acct\").str.contains(\"@\"))\n",
    "            .then(pl.col(\"acct\") + \"@mastodon.social\")\n",
    "            .otherwise(pl.col(\"acct\"))\n",
    "        )\n",
    "        .select(\"id\", pl.col(\"acct\").alias(\"account\"))\n",
    "    )\n",
    "    return authors"
   ]
  },
  {
   "cell_type": "code",
   "execution_count": 82,
   "id": "8f7d9a71307786df",
   "metadata": {
    "ExecuteTime": {
     "end_time": "2025-10-15T07:21:17.828116Z",
     "start_time": "2025-10-15T07:21:17.826212Z"
    }
   },
   "outputs": [],
   "source": [
    "def get_nodes() -> pl.DataFrame:\n",
    "    nodes = pl.concat([get_users_df(\"authors\"), get_users_df(\"rebloggers\")])\n",
    "    return nodes"
   ]
  },
  {
   "cell_type": "code",
   "execution_count": 83,
   "id": "9f4aaa1308ebf8a1",
   "metadata": {
    "ExecuteTime": {
     "end_time": "2025-10-15T07:21:24.377819Z",
     "start_time": "2025-10-15T07:21:24.375483Z"
    }
   },
   "outputs": [],
   "source": [
    "def get_relationships() -> pl.DataFrame:\n",
    "    relationships = (\n",
    "        pl.read_csv(\"data/rebloggers.csv\")\n",
    "        .select(\"id\", \"author_id\")\n",
    "        .group_by([\"id\", \"author_id\"])\n",
    "        .len(name=\"weight\")\n",
    "        .sort(\"weight\", descending=True)\n",
    "        .select(pl.col(\"id\").alias(\"reblogger_id\"), \"author_id\", \"weight\")\n",
    "    )\n",
    "    return relationships"
   ]
  },
  {
   "cell_type": "code",
   "execution_count": 84,
   "id": "94075db399f33fca",
   "metadata": {
    "ExecuteTime": {
     "end_time": "2025-10-15T07:21:27.399896Z",
     "start_time": "2025-10-15T07:21:27.216345Z"
    }
   },
   "outputs": [],
   "source": [
    "nodes = get_nodes()\n",
    "relationships = get_relationships()\n",
    "\n",
    "nodes.write_csv(\"nodes.csv\")\n",
    "relationships.write_csv(\"relationships.csv\")\n",
    "#!cp data/authors_03_04_10_2025.csv neo4j_db/import/authors_2.csv"
   ]
  },
  {
   "cell_type": "code",
   "execution_count": null,
   "id": "a6b0843b0642c7d5",
   "metadata": {},
   "outputs": [],
   "source": [
    "len(relationships)"
   ]
  },
  {
   "cell_type": "markdown",
   "id": "569bd2846419a805",
   "metadata": {},
   "source": "## Database related functions"
  },
  {
   "cell_type": "code",
   "execution_count": 16,
   "id": "306cb12953c178b7",
   "metadata": {
    "ExecuteTime": {
     "end_time": "2025-10-14T11:00:06.020214Z",
     "start_time": "2025-10-14T11:00:06.016561Z"
    }
   },
   "outputs": [],
   "source": [
    "def get_database_driver():\n",
    "    uri = \"bolt://localhost:7687\"\n",
    "    return GraphDatabase.driver(uri, auth=(\"neo4j\", \"my_password\"))"
   ]
  },
  {
   "cell_type": "code",
   "execution_count": 75,
   "id": "initial_id",
   "metadata": {
    "ExecuteTime": {
     "end_time": "2025-10-14T13:57:18.690705Z",
     "start_time": "2025-10-14T13:57:18.688171Z"
    },
    "collapsed": true
   },
   "outputs": [],
   "source": [
    "def create_nodes() -> None:\n",
    "    with get_database_driver().session() as session:\n",
    "        session.run(\n",
    "            \"CREATE CONSTRAINT user_id_unique IF NOT EXISTS FOR (u:User) REQUIRE u.userId IS UNIQUE\"\n",
    "        )\n",
    "        session.run(\n",
    "            \"\"\"\n",
    "            LOAD CSV WITH HEADERS FROM 'file:///nodes.csv' AS row\n",
    "            CALL(row) {\n",
    "                MERGE (u:User {userId: toInteger(row.id)})\n",
    "                SET u.account = row.account\n",
    "            } IN TRANSACTIONS\n",
    "            \"\"\"\n",
    "        )"
   ]
  },
  {
   "cell_type": "code",
   "execution_count": 76,
   "id": "bc48104d0af5653a",
   "metadata": {
    "ExecuteTime": {
     "end_time": "2025-10-14T13:57:22.172980Z",
     "start_time": "2025-10-14T13:57:22.171002Z"
    }
   },
   "outputs": [],
   "source": [
    "def create_relationships() -> None:\n",
    "    with get_database_driver().session() as session:\n",
    "        session.run(\n",
    "            \"\"\"\n",
    "            LOAD CSV WITH HEADERS FROM 'file:///relationships.csv' AS row\n",
    "            CALL (row){\n",
    "              MATCH (r:User {userId: toInteger(row.reblogger_id) })\n",
    "              MATCH (a:User {userId: toInteger(row.author_id) })\n",
    "              MERGE (r)-[:REBLOGS {weight: toInteger(row.weight)}]->(a)\n",
    "            } IN TRANSACTIONS\n",
    "            \"\"\"\n",
    "        )"
   ]
  },
  {
   "cell_type": "code",
   "execution_count": 49,
   "id": "5d7cb51fb2d160d4",
   "metadata": {
    "ExecuteTime": {
     "end_time": "2025-10-14T13:10:12.807057Z",
     "start_time": "2025-10-14T13:10:12.805261Z"
    }
   },
   "outputs": [],
   "source": [
    "def delete_all_nodes_and_relationships() -> None:\n",
    "    with get_database_driver().session() as session:\n",
    "        session.run(\"MATCH (n) DETACH DELETE n\")"
   ]
  },
  {
   "cell_type": "markdown",
   "id": "76b0bd37276049d5",
   "metadata": {},
   "source": "### Execute database releated functions"
  },
  {
   "cell_type": "code",
   "execution_count": 87,
   "id": "12f9fe2fbb854d6",
   "metadata": {
    "ExecuteTime": {
     "end_time": "2025-10-15T07:22:50.725950Z",
     "start_time": "2025-10-15T07:22:40.934343Z"
    }
   },
   "outputs": [],
   "source": [
    "# Uncomment the below lines to execute the functions you want.\n",
    "# create_nodes()\n",
    "create_relationships()\n",
    "# delete_all_nodes_and_relationships()"
   ]
  }
 ],
 "metadata": {
  "kernelspec": {
   "display_name": "Python 3",
   "language": "python",
   "name": "python3"
  },
  "language_info": {
   "codemirror_mode": {
    "name": "ipython",
    "version": 2
   },
   "file_extension": ".py",
   "mimetype": "text/x-python",
   "name": "python",
   "nbconvert_exporter": "python",
   "pygments_lexer": "ipython2",
   "version": "2.7.6"
  }
 },
 "nbformat": 4,
 "nbformat_minor": 5
}
